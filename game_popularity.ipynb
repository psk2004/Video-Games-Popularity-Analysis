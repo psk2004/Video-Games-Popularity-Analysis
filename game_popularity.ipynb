{
  "nbformat": 4,
  "nbformat_minor": 0,
  "metadata": {
    "colab": {
      "provenance": [],
      "toc_visible": true,
      "mount_file_id": "1_2QLRLBNnnJOF04j7by_xceQOYmfBRnE",
      "authorship_tag": "ABX9TyMEd4SHREXniJ/zQzm+NXzX",
      "include_colab_link": true
    },
    "kernelspec": {
      "name": "python3",
      "display_name": "Python 3"
    },
    "language_info": {
      "name": "python"
    }
  },
  "cells": [
    {
      "cell_type": "markdown",
      "metadata": {
        "id": "view-in-github",
        "colab_type": "text"
      },
      "source": [
        "<a href=\"https://colab.research.google.com/github/psk2004/Video-Games-Popularity-Analysis/blob/main/game_popularity.ipynb\" target=\"_parent\"><img src=\"https://colab.research.google.com/assets/colab-badge.svg\" alt=\"Open In Colab\"/></a>"
      ]
    },
    {
      "cell_type": "code",
      "execution_count": null,
      "metadata": {
        "id": "FoYcLINLQtI2"
      },
      "outputs": [],
      "source": [
        "import numpy as np\n",
        "import pandas as pd\n",
        "import matplotlib.pyplot as plt\n",
        "import seaborn as sns"
      ]
    },
    {
      "cell_type": "markdown",
      "source": [
        "#Import Data"
      ],
      "metadata": {
        "id": "WzziQR3DBEb6"
      }
    },
    {
      "cell_type": "code",
      "source": [
        "df_games = pd.read_csv(\"/content/drive/MyDrive/games.csv\")\n",
        "df_games.head()"
      ],
      "metadata": {
        "id": "UuFq_j-5Q5W-"
      },
      "execution_count": null,
      "outputs": []
    },
    {
      "cell_type": "code",
      "source": [
        "df_games.shape                 #Number of rows & columns"
      ],
      "metadata": {
        "id": "zGbdPyhz82Vs"
      },
      "execution_count": null,
      "outputs": []
    },
    {
      "cell_type": "code",
      "source": [
        "df_games.info()"
      ],
      "metadata": {
        "id": "0vhtvpuTRI_1"
      },
      "execution_count": null,
      "outputs": []
    },
    {
      "cell_type": "markdown",
      "source": [
        "#Data Cleaning"
      ],
      "metadata": {
        "id": "7HkQDH12AiKn"
      }
    },
    {
      "cell_type": "code",
      "source": [
        "pd.isnull(df_games).sum()    #Checking for null values in the dataset"
      ],
      "metadata": {
        "id": "BQl_ifCDST--"
      },
      "execution_count": null,
      "outputs": []
    },
    {
      "cell_type": "code",
      "source": [
        "#Checking for duplicates\n",
        "\n",
        "duplicate = df_games[df_games.duplicated()]\n",
        "duplicate"
      ],
      "metadata": {
        "id": "uXptyG1tUvst"
      },
      "execution_count": null,
      "outputs": []
    },
    {
      "cell_type": "code",
      "source": [
        "df_games.isna().any()     #checking for NaN"
      ],
      "metadata": {
        "id": "_XezbUm-YPA4"
      },
      "execution_count": null,
      "outputs": []
    },
    {
      "cell_type": "code",
      "source": [
        "#Displaying the NaN values\n",
        "team_null = df_games[df_games['Team'].isnull()]\n",
        "rating_null = df_games[df_games['Rating'].isnull()]\n",
        "summary_null = df_games[df_games['Summary'].isnull()]\n",
        "print(team_null,rating_null,summary_null)"
      ],
      "metadata": {
        "id": "Ei0rIo2vZX77"
      },
      "execution_count": null,
      "outputs": []
    },
    {
      "cell_type": "code",
      "source": [
        "tbd_df = df_games[df_games['Release Date'] == 'releases on TBD']     #Checking if a game does not have its release date disclosed\n",
        "tbd_df"
      ],
      "metadata": {
        "id": "XPGo_GQybLUB"
      },
      "execution_count": null,
      "outputs": []
    },
    {
      "cell_type": "code",
      "source": [
        "#convert = ['Number of Reviews','Plays','Playing','Backlogs','Wishlist',\"Times Listed\"]    To convert applicable columns to accomodate floating values to make our analysis easier\n",
        "columns_to_convert = ['Number of Reviews','Plays','Playing','Backlogs','Wishlist',\"Times Listed\"]\n",
        "def convert_k_to_int(x):\n",
        "    if 'K' in x:\n",
        "        return int(float(x.replace(\"K\", \"\")) * 1000)\n",
        "    else:\n",
        "        return int(x)\n",
        "\n",
        "# Apply the custom function to the selected columns\n",
        "df_games[columns_to_convert] = df_games[columns_to_convert].applymap(convert_k_to_int)\n",
        "df_games[columns_to_convert]"
      ],
      "metadata": {
        "id": "tGQu_vHTfyND"
      },
      "execution_count": null,
      "outputs": []
    },
    {
      "cell_type": "code",
      "source": [
        "df_games = df_games.drop(index=1250)                      #Dropping those games that do not have a release date. Pls see the cell that is 2 cells above this for the games having TBD release dates.\n",
        "df_games = df_games.reset_index(drop = True)\n",
        "\n",
        "df_games['Release Date'] = pd.to_datetime(df_games['Release Date'])\n",
        "\n",
        "# Extract numerical components to convert the dates to a numerical value  (YYYY/MM/DD format)\n",
        "df_games['Year'] = df_games['Release Date'].dt.year\n",
        "df_games['Month'] = df_games['Release Date'].dt.month\n",
        "df_games['Day'] = df_games['Release Date'].dt.day\n",
        "\n"
      ],
      "metadata": {
        "id": "rJVFyICDg60z"
      },
      "execution_count": null,
      "outputs": []
    },
    {
      "cell_type": "code",
      "source": [
        "df_games = df_games.rename(columns={\"Unnamed: 0\":\"#\"})\n",
        "df_games"
      ],
      "metadata": {
        "id": "GuK86rQzatpf"
      },
      "execution_count": null,
      "outputs": []
    },
    {
      "cell_type": "markdown",
      "source": [
        "##Inserting new column for analysis"
      ],
      "metadata": {
        "id": "P0HQ6zFTAydb"
      }
    },
    {
      "cell_type": "code",
      "source": [
        "df_games[\"Popularity\"] = df_games[\"Plays\"] + df_games[\"Wishlist\"]                    #Creating a new column 'Popularity' by adding the numbers of those who own the game and those who want the game. Factors like number of reviews, those playing the game now and those who have shelfed them only influence popularity but cannot be considered under it."
      ],
      "metadata": {
        "id": "5j94WOsZk7vG"
      },
      "execution_count": null,
      "outputs": []
    },
    {
      "cell_type": "code",
      "source": [
        "df_games            #Displaying the dataset after making the changes"
      ],
      "metadata": {
        "id": "EiHrPkLRlQup"
      },
      "execution_count": null,
      "outputs": []
    },
    {
      "cell_type": "markdown",
      "source": [
        "#Analysing our Data"
      ],
      "metadata": {
        "id": "FjIUEh7lA5Oi"
      }
    },
    {
      "cell_type": "code",
      "source": [
        "df_games['Rating'].value_counts() #Games being grouped rating wise"
      ],
      "metadata": {
        "id": "kmmUJ4xTunR9"
      },
      "execution_count": null,
      "outputs": []
    },
    {
      "cell_type": "code",
      "source": [
        "df_games['Genres'].value_counts()      #Games being grouped genre wise"
      ],
      "metadata": {
        "id": "wxwTYQvRxGha"
      },
      "execution_count": null,
      "outputs": []
    },
    {
      "cell_type": "code",
      "source": [
        "df_games['Month'].value_counts()                      #Games being grouped according to the months on which they have released."
      ],
      "metadata": {
        "id": "GGsPbD7Bk4sq"
      },
      "execution_count": null,
      "outputs": []
    },
    {
      "cell_type": "code",
      "source": [
        "plt.figure(figsize=(10, 6))                             #Box-plot to show the distribution of the times, games have been listed\n",
        "sns.boxplot(df_games[\"Times Listed\"])\n",
        "plt.title('Distribution of the times, games have been listed')\n",
        "plt.show()"
      ],
      "metadata": {
        "id": "FUHJ1FTGRKjn"
      },
      "execution_count": null,
      "outputs": []
    },
    {
      "cell_type": "code",
      "source": [
        "# Scatter plot to visualize the relationship between plot length and popularity\n",
        "sns.scatterplot(x=df_games[\"Rating\"], y=df_games[\"Popularity\"], data=df_games)\n",
        "plt.title('Popularity vs Rating')\n",
        "plt.xlabel('Rating')\n",
        "plt.ylabel('Popularity')\n",
        "plt.xticks(rotation=45)\n",
        "plt.show()"
      ],
      "metadata": {
        "id": "7qGoLYQrTiZH"
      },
      "execution_count": null,
      "outputs": []
    },
    {
      "cell_type": "code",
      "source": [
        "\n",
        "#We are displaying the top 10 games that are played by most people at present\n",
        "\n",
        "sorted_df = df_games.groupby(\"Title\")[\"Playing\"].max().reset_index().sort_values(ascending = False,by = \"Playing\").head(10)\n",
        "sorted_df"
      ],
      "metadata": {
        "id": "7tlQXY9uVxlB"
      },
      "execution_count": null,
      "outputs": []
    },
    {
      "cell_type": "code",
      "source": [
        "#We are displaying the top 10 games that are shelfed by people i.e., the game which is put in backlog by most people\n",
        "\n",
        "sorted_df = df_games.groupby(\"Title\")[\"Backlogs\"].max().reset_index().sort_values(ascending = False,by = \"Backlogs\").head(10)\n",
        "sorted_df"
      ],
      "metadata": {
        "id": "qPlJjD84m1ta"
      },
      "execution_count": null,
      "outputs": []
    },
    {
      "cell_type": "code",
      "source": [
        "#We are displaying the top 10 games that has been reviewed the most\n",
        "\n",
        "sorted_df = df_games.groupby(\"Title\")[\"Number of Reviews\"].max().reset_index().sort_values(ascending = False,by = \"Number of Reviews\").head(10)\n",
        "sorted_df"
      ],
      "metadata": {
        "id": "lyYri4z-ns7l"
      },
      "execution_count": null,
      "outputs": []
    },
    {
      "cell_type": "code",
      "source": [
        "#We are displaying the 25 oldest games in the order of their release dates\n",
        "\n",
        "sorted_df = df_games.groupby(\"Title\")[\"Release Date\"].max().reset_index().sort_values(ascending = True,by = \"Release Date\").head(25)\n",
        "sorted_df"
      ],
      "metadata": {
        "id": "Y_8yd_ICt5SC"
      },
      "execution_count": null,
      "outputs": []
    },
    {
      "cell_type": "code",
      "source": [
        "\n",
        "#Here we are displaying 25 highest rated games along with their reviews and popularity to see whether highly rated games were the most popular or not\n",
        "\n",
        "\n",
        "sorted_df = df_games.groupby([\"Rating\",\"Title\",\"Popularity\"])[\"Number of Reviews\"].max().reset_index().sort_values(ascending = False,by = \"Rating\").head(25)\n",
        "sorted_df"
      ],
      "metadata": {
        "id": "GfeVj7pcusa9"
      },
      "execution_count": null,
      "outputs": []
    },
    {
      "cell_type": "code",
      "source": [
        "df_games.describe().transpose()    #summary statistics for each numerical column"
      ],
      "metadata": {
        "id": "U__eXzHexCMW"
      },
      "execution_count": null,
      "outputs": []
    },
    {
      "cell_type": "code",
      "source": [
        "x = int(input(\"Enter the index of the game you want to search for (0-1508): \"))\n",
        "df_games[[\"Title\"]].iloc[x]   #To see the xth game recorded in the dataset"
      ],
      "metadata": {
        "id": "4HLUygJ3yosM"
      },
      "execution_count": null,
      "outputs": []
    },
    {
      "cell_type": "code",
      "source": [
        "#Correlation b/w popularity, ratings and the number of reviews for games.\n",
        "\n",
        "corr_df = df_games.drop([\"Popularity\",\"Rating\",\"Number of Reviews\"],axis=1).corr(method=\"pearson\")\n",
        "plt.figure(figsize=(14,6))\n",
        "heatmap = sns.heatmap(corr_df,annot = True,fmt = '.1g', vmin = -1, vmax = 1, center = 0, cmap = \"inferno\", linewidth = 1, linecolor =\"Black\")\n",
        "heatmap.set_title(\"Correlation HeatMap Between Variable\")\n",
        "heatmap.set_xticklabels(heatmap.get_xticklabels(),rotation = 90)"
      ],
      "metadata": {
        "id": "ezbOcWrPzL6b"
      },
      "execution_count": null,
      "outputs": []
    },
    {
      "cell_type": "code",
      "source": [
        "#Scatter plot with regression line to explain how the number of reviews for a game influence popularity\n",
        "\n",
        "plt.figure(figsize=(10,6))\n",
        "sns.regplot(data = df_games,y=\"Popularity\",x = \"Number of Reviews\",color = \"c\").set(title = \" Correlation b/w number of Reviews v/s popularity\")"
      ],
      "metadata": {
        "id": "2VOiIFSc0MFJ"
      },
      "execution_count": null,
      "outputs": []
    },
    {
      "cell_type": "code",
      "source": [
        "rating_count = df_games['Rating'].value_counts().head(10)\n",
        "rating_count.index"
      ],
      "metadata": {
        "id": "tp5ANWmgtN-9",
        "colab": {
          "base_uri": "https://localhost:8080/"
        },
        "outputId": "7a47781f-d60d-4495-85f2-83ba63b29219"
      },
      "execution_count": null,
      "outputs": [
        {
          "output_type": "execute_result",
          "data": {
            "text/plain": [
              "Float64Index([4.1, 4.0, 3.7, 4.2, 3.9, 3.6, 3.5, 3.8, 4.3, 3.4], dtype='float64')"
            ]
          },
          "metadata": {},
          "execution_count": 15
        }
      ]
    },
    {
      "cell_type": "code",
      "source": [
        "plt.pie(rating_count.index,labels=rating_count.index,autopct=\"%1.1f%%\",startangle=90)      #Distribution of games for those ratings that are frequently occuring shown in a pie chart\n",
        "plt.title(\"Distribution of Ratings\")\n",
        "plt.show()"
      ],
      "metadata": {
        "id": "yMUALCN70Vb9"
      },
      "execution_count": null,
      "outputs": []
    },
    {
      "cell_type": "code",
      "source": [
        "df_games.groupby(\"Year\")[\"Number of Reviews\"].sum()     #Number of reviews released in a year. As access of technology increased year after year, reviewers got access to more and more games leading to more reviews"
      ],
      "metadata": {
        "id": "YHe7BuBTnGv6"
      },
      "execution_count": null,
      "outputs": []
    },
    {
      "cell_type": "code",
      "source": [
        "df_games.groupby(\"Year\")[\"Popularity\"].sum()     #To see the popularity of video games which has increased over the years."
      ],
      "metadata": {
        "id": "RBRy1AoKvXcX"
      },
      "execution_count": null,
      "outputs": []
    },
    {
      "cell_type": "code",
      "source": [
        "plt.hist(df_games[\"Year\"],bins = 20, color = \"skyblue\", edgecolor = \"black\")          #Releases of games in year which increased due to the increased availability of technology.\n",
        "plt.title(\"Releases of games in a year\")\n",
        "plt.xlabel(\"Year\")\n",
        "plt.ylabel(\"Frequency\")\n",
        "plt.show()"
      ],
      "metadata": {
        "id": "CDZQzPX4z4Kx"
      },
      "execution_count": null,
      "outputs": []
    },
    {
      "cell_type": "code",
      "source": [
        "genre_trend_by_popularity = df_games.groupby(\"Genres\")[\"Popularity\"].mean()      #Popularity v/s genres trend over the years.\n",
        "\n",
        "genre_trend_by_popularity.plot(kind = \"line\",marker = \"o\",linestyle=\"-\",color=\"orange\")\n",
        "plt.title(\"Popularity trend over genres\")\n",
        "plt.xlabel(\"Genres\")\n",
        "plt.ylabel(\"Popularity\")\n",
        "plt.show()"
      ],
      "metadata": {
        "id": "-UmE_CpI1EV3"
      },
      "execution_count": null,
      "outputs": []
    },
    {
      "cell_type": "code",
      "source": [
        "team_popularity_bar_graph = ((df_games.groupby(\"Team\")[\"Popularity\"]).max()).head(25)      #Top 25 most popular video game developers\n",
        "plt.figure(figsize=(10,10))\n",
        "team_popularity_bar_graph.plot(kind='bar')\n",
        "plt.title(\"Popularity trend over video game makers\")\n",
        "plt.xlabel(\"Teams\")\n",
        "plt.ylabel(\"Popularity\")\n",
        "plt.show()"
      ],
      "metadata": {
        "id": "qBROD7ld4I2W"
      },
      "execution_count": null,
      "outputs": []
    },
    {
      "cell_type": "code",
      "source": [
        "sns.boxplot(df_games[\"Number of Reviews\"])                         #Box plot showing the distribution of number of reviews\n",
        "plt.title(\"Box plt: distribution of number of reviews\")\n",
        "plt.show()"
      ],
      "metadata": {
        "id": "VY5lAC5Y6Tfa"
      },
      "execution_count": null,
      "outputs": []
    },
    {
      "cell_type": "code",
      "source": [
        "total_games_reviews_by_year = df_games.groupby(\"Year\")[\"#\",\"Number of Reviews\"].sum()\n",
        "total_games_reviews_by_year.sort_values(ascending = False,by = \"#\").plot(kind = \"bar\",stacked=True,colormap=\"viridis\")\n",
        "plt.title(\"Total games and number of reviews by Year\")\n",
        "plt.xlabel(\"Year\")\n",
        "plt.ylabel(\"Total Value\")\n",
        "plt.show()"
      ],
      "metadata": {
        "id": "GckpIki7nUws"
      },
      "execution_count": null,
      "outputs": []
    },
    {
      "cell_type": "code",
      "source": [
        "most_popular = df_games.query('Popularity>32000',inplace = False).sort_values('Popularity',ascending = False)\n",
        "most_popular[:5]                              #displaying those games that have popualarity above 32000"
      ],
      "metadata": {
        "id": "Nl-735-1pIMI"
      },
      "execution_count": null,
      "outputs": []
    },
    {
      "cell_type": "code",
      "source": [
        "most_popular = df_games.query('Month==2',inplace = False).sort_values('Release Date',ascending =True)          #Displaying games released in February according to their release date chronologically.\n",
        "most_popular[:5]"
      ],
      "metadata": {
        "id": "Def0vUSXBzKI"
      },
      "execution_count": null,
      "outputs": []
    },
    {
      "cell_type": "code",
      "source": [
        "team_rating_bar_graph = ((df_games.groupby(\"Title\")[\"Popularity\"]).max()).head(10)      #Popularity among 10 games in their increasing alphabetical order.\n",
        "plt.figure(figsize=(10,10))\n",
        "team_rating_bar_graph.plot(kind='bar')\n",
        "plt.title(\"Games v/s ratings\")\n",
        "plt.xlabel(\"Games\")\n",
        "plt.ylabel(\"Ratings\")\n",
        "plt.show()"
      ],
      "metadata": {
        "id": "gI6qegjVlqY5"
      },
      "execution_count": null,
      "outputs": []
    },
    {
      "cell_type": "code",
      "source": [
        "sorted_df = df_games.groupby(\"Title\")[\"Rating\"].max().reset_index().sort_values(ascending = False,by = \"Rating\").head(25)      #Top 10 highest rated games\n",
        "sorted_df"
      ],
      "metadata": {
        "id": "c5MBWbNVCjv9"
      },
      "execution_count": null,
      "outputs": []
    },
    {
      "cell_type": "code",
      "source": [
        "sorted_df = df_games.groupby(\"Title\")[\"Wishlist\"].max().reset_index().sort_values(ascending = False,by = \"Wishlist\").head(10)      #Top 10 wishlisted games\n",
        "sorted_df"
      ],
      "metadata": {
        "id": "UbfI2TS-zFrO"
      },
      "execution_count": null,
      "outputs": []
    },
    {
      "cell_type": "code",
      "source": [
        "sorted_df = df_games.groupby([\"Title\",\"Rating\"])[\"Backlogs\"].max().reset_index().sort_values(ascending = False,by = \"Backlogs\").head(10)      # Games that are highly rated but are shelfed\n",
        "sorted_df"
      ],
      "metadata": {
        "id": "LZyUopg60HS2"
      },
      "execution_count": null,
      "outputs": []
    },
    {
      "cell_type": "code",
      "source": [
        "sorted_df = df_games.groupby([\"Title\",\"Rating\"])[\"Playing\"].max().reset_index().sort_values(ascending = False,by = \"Playing\").head(10)      # Games that people have been playing in the recent times.\n",
        "sorted_df"
      ],
      "metadata": {
        "id": "PDtlgrjs0kFN"
      },
      "execution_count": null,
      "outputs": []
    },
    {
      "source": [
        "sorted_df.plot(kind='scatter', x='Rating', y='Playing', s=32, alpha=.8)        #Scatterplot showing people playing games based on their ratings\n",
        "plt.gca().spines[['top', 'right',]].set_visible(False)"
      ],
      "cell_type": "code",
      "execution_count": null,
      "outputs": [],
      "metadata": {
        "id": "7FPZ-35L2q8J"
      }
    },
    {
      "source": [
        "#Correlation b/w those who have games, who play them and who have shelfed them\n",
        "\n",
        "corr_df = df_games.drop([\"Plays\",\"Playing\",\"Backlogs\"],axis=1).corr(method=\"pearson\")\n",
        "plt.figure(figsize=(14,6))\n",
        "heatmap = sns.heatmap(corr_df,annot = True,fmt = '.1g', vmin = -1, vmax = 1, center = 0, cmap = \"inferno\", linewidth = 1, linecolor =\"Black\")\n",
        "heatmap.set_title(\"Correlation b/w those who have games, who play them and who have shelfed them\")\n",
        "heatmap.set_xticklabels(heatmap.get_xticklabels(),rotation = 90)"
      ],
      "cell_type": "code",
      "execution_count": null,
      "outputs": [],
      "metadata": {
        "id": "zP53nAWn2ekm"
      }
    }
  ]
}